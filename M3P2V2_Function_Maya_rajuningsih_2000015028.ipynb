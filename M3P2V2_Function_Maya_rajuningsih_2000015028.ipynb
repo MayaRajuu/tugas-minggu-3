{
  "nbformat": 4,
  "nbformat_minor": 0,
  "metadata": {
    "colab": {
      "name": "M3P2V2 Function Maya rajuningsih 2000015028",
      "provenance": []
    },
    "kernelspec": {
      "name": "python3",
      "display_name": "Python 3"
    },
    "language_info": {
      "name": "python"
    }
  },
  "cells": [
    {
      "cell_type": "markdown",
      "metadata": {
        "id": "YVeEDIjGq0ra"
      },
      "source": [
        "#Function"
      ]
    },
    {
      "cell_type": "markdown",
      "metadata": {
        "id": "KixPB4PVq4ar"
      },
      "source": [
        "function (fungsi) adalah sebuah blok statement yang hanya kan dijalankan saat ia dipanggil.\n",
        "\n",
        "fungsi len() untuk mengukur jumlah elemen dlam sebuah list dan ufngsi print() untuk menampilkan pesan pada layar konsol merupakan contoh dari bentuk fungsi yang telahdisediakan oelh bahasa pemograman python atau dengan kata lain built-in funvtions.\n",
        "\n",
        "selain fungsi yang telah disediakan oleh python, python mengizinkan untuk mendeklarasikan fungsi dalam kode yang telah dituliskan yang dikenal dengan user difned function."
      ]
    },
    {
      "cell_type": "code",
      "metadata": {
        "id": "10z8CjNxqoeu"
      },
      "source": [
        "def nama_fungsi(argumen):\n",
        "  statement_1\n",
        "  -\n",
        "  statemant_n\n",
        "  return retuned_value\n"
      ],
      "execution_count": null,
      "outputs": []
    },
    {
      "cell_type": "markdown",
      "metadata": {
        "id": "PoDsdCp5sNhS"
      },
      "source": [
        "\n",
        "\n",
        "*   **nama_fungsi** adlah nama untuk fungsi yang telah anda definisiakan, memilik aturan seperti penamaan variabel.\n",
        "* **argumen** adalah variabel masukan ke fungsi, bisa tanpa variabel, satu varibael atau lebih\n",
        "*   **statement_1** ... statement_n adalah algoritma yang telah anda transfer dalam bahasa python yang merupakan inti dari fungsi yang anda definisikan. seluruh statement adalah menjorok (indent) ke dalam seperti yang pernah anda pelajari pada conditioning dan looping.\n",
        "* **retunr_value** adalah variabel output dari fungsi anda, bisa tanpa variabel,satu ariabel atau lebih.\n",
        "\n"
      ]
    },
    {
      "cell_type": "code",
      "metadata": {
        "id": "rwlWsgV4tN8B"
      },
      "source": [
        ""
      ],
      "execution_count": null,
      "outputs": []
    },
    {
      "cell_type": "markdown",
      "metadata": {
        "id": "iGqyjdp9tJDZ"
      },
      "source": [
        "#Argumen dan Parameter\n",
        "\n",
        "\n",
        "*   **Parameter** adalah variabel ayng digunakan dalam deklarasi fungsi\n",
        "*   **Argumen** adalag nilai yang diberikan saat pemanggilan fungsi\n",
        "\n"
      ]
    },
    {
      "cell_type": "code",
      "metadata": {
        "colab": {
          "base_uri": "https://localhost:8080/"
        },
        "id": "nIvm_jH7tbTP",
        "outputId": "cabbfc93-61ee-4b26-fe95-25f14d714ea0"
      },
      "source": [
        "def print_nama(nama):   #'nama' adalah parameter\n",
        "     print(nama)\n",
        "\n",
        "print_nama('budi')    #'budi' adlah argumen"
      ],
      "execution_count": 1,
      "outputs": [
        {
          "output_type": "stream",
          "name": "stdout",
          "text": [
            "budi\n"
          ]
        }
      ]
    },
    {
      "cell_type": "markdown",
      "metadata": {
        "id": "k3FdLClyuDoE"
      },
      "source": [
        "#Argumen posisi dan kata kunci\n",
        "\n",
        "kita bisa menyatakan argumen sebagai argumen posisi atau kata kunci. beberapa manfaat argumen kata kunci dapat berupa :\n",
        "* kita dapat menyebut argumen dengan nama mereka untuk memperjelas apa yang mereka wakili\n",
        "*kita dapat mengatur ulang dengan cara yang membuatnya paling mudah dibaca"
      ]
    },
    {
      "cell_type": "code",
      "metadata": {
        "colab": {
          "base_uri": "https://localhost:8080/"
        },
        "id": "1YztRcm2uiiE",
        "outputId": "7c0153fe-a37f-4a21-e5cd-8d7042423f09"
      },
      "source": [
        "def angka(a, b,c):\n",
        "  print(a, b, c)\n",
        "\n",
        "#argumen posisi\n",
        "#argumen bedasarkan posisinya\n",
        "angka(1, 2, 3)\n",
        "\n",
        "#argumen berdasarkan kata kuncinya\n",
        "angka(a=1, b=2, c=3)\n",
        "angka(c=3, b=2, a=1)\n",
        "#catatan : jika sudah diberi kata kunci maka urutannya tidak menjadi penting\n",
        "\n",
        "#canpuran antara argumen posisi dan argumen kata kunci\n",
        "angka(1, b=2, c=3)\n",
        "\n",
        "#ini tidak dijinkan:\n",
        "#foo(1, b=2, c) #argumen posisional setelah argumen kunci\n",
        "#foo(1,b=2, a=3) #terdapat dua nilai untuk argumen kunci 'a'"
      ],
      "execution_count": 2,
      "outputs": [
        {
          "output_type": "stream",
          "name": "stdout",
          "text": [
            "1 2 3\n",
            "1 2 3\n",
            "1 2 3\n",
            "1 2 3\n"
          ]
        }
      ]
    },
    {
      "cell_type": "markdown",
      "metadata": {
        "id": "Z-DDt9cyvgNP"
      },
      "source": [
        "#Argumen Default\n",
        "\n",
        "fungsi dapat emmiliki argumen deafult dengan nilai yang telah ditentukan sebelumnya. Argumen ini dapat ditinggalkan dan nilai deafult kemudian diteruskan ke fungsi, atau argumen dapat idrubah dengan niali yang berbeda. perhatikan bahwa argumen deafult harus ditentukan sebagai **parameter terakhir** dalam suatu fungsi."
      ]
    },
    {
      "cell_type": "code",
      "metadata": {
        "colab": {
          "base_uri": "https://localhost:8080/"
        },
        "id": "OyVwjtDjwCNt",
        "outputId": "07d8c09c-143b-404d-f8d8-06ca9b7e3e34"
      },
      "source": [
        "#argumen deafult\n",
        "def angka2(a, b, c, d=4):\n",
        "  print(a, b, c, d)\n",
        "\n",
        "angka2(1, 2, 3, 4)\n",
        "angka2(1, b=2, c=3, d=100)\n",
        "\n",
        "#argumen deafult diletakkan terkahir"
      ],
      "execution_count": 5,
      "outputs": [
        {
          "output_type": "stream",
          "name": "stdout",
          "text": [
            "1 2 3 4\n",
            "1 2 3 100\n"
          ]
        }
      ]
    },
    {
      "cell_type": "markdown",
      "metadata": {
        "id": "w0Ay_rT6weFY"
      },
      "source": [
        "#Praktik membuat fungsi"
      ]
    },
    {
      "cell_type": "code",
      "metadata": {
        "colab": {
          "base_uri": "https://localhost:8080/"
        },
        "id": "EjDQTQYmwhe3",
        "outputId": "383f7046-69b7-44f5-9338-70d3e6282bee"
      },
      "source": [
        "x =1\n",
        "y =2\n",
        "x*y"
      ],
      "execution_count": 6,
      "outputs": [
        {
          "output_type": "execute_result",
          "data": {
            "text/plain": [
              "2"
            ]
          },
          "metadata": {},
          "execution_count": 6
        }
      ]
    },
    {
      "cell_type": "code",
      "metadata": {
        "colab": {
          "base_uri": "https://localhost:8080/"
        },
        "id": "vDTxaEEewqKS",
        "outputId": "3071b647-b517-432d-8cc1-cb2945be5068"
      },
      "source": [
        "def penjumlahan(x, y):   #input\n",
        "  a=x+y                   #proses\n",
        "  return a                #output\n",
        "\n",
        "penjumlahan(1, 2)         #menggunakan fungsi"
      ],
      "execution_count": 7,
      "outputs": [
        {
          "output_type": "execute_result",
          "data": {
            "text/plain": [
              "3"
            ]
          },
          "metadata": {},
          "execution_count": 7
        }
      ]
    },
    {
      "cell_type": "markdown",
      "metadata": {
        "id": "7SkEODwNw8KX"
      },
      "source": [
        "penjumlahan yang memungkinkan untuk tiga bilangan"
      ]
    },
    {
      "cell_type": "code",
      "metadata": {
        "colab": {
          "base_uri": "https://localhost:8080/"
        },
        "id": "_Ic9okyGxAve",
        "outputId": "fa2b7fca-5af0-47df-9e17-4c92fc8e8472"
      },
      "source": [
        "def penjumlahan (x,y,z=None):\n",
        "  if(z==None):\n",
        "    return x+y\n",
        "  else:\n",
        "    return x+y+z\n",
        "\n",
        "print(penjumlahan(1, 2))\n",
        "print(penjumlahan(1, 2, 3))"
      ],
      "execution_count": 8,
      "outputs": [
        {
          "output_type": "stream",
          "name": "stdout",
          "text": [
            "3\n",
            "6\n"
          ]
        }
      ]
    },
    {
      "cell_type": "markdown",
      "metadata": {
        "id": "PibRZoG0xbrI"
      },
      "source": [
        "menyimpan hasil fungsi dalam variabel "
      ]
    },
    {
      "cell_type": "code",
      "metadata": {
        "colab": {
          "base_uri": "https://localhost:8080/"
        },
        "id": "ho1cMAYhxe7u",
        "outputId": "5882df94-4e49-481e-9292-bae0538cfc1c"
      },
      "source": [
        "def penjumlahan (x,y):\n",
        "  return x+y\n",
        "\n",
        "a=penjumlahan\n",
        "a(1,2)"
      ],
      "execution_count": 9,
      "outputs": [
        {
          "output_type": "execute_result",
          "data": {
            "text/plain": [
              "3"
            ]
          },
          "metadata": {},
          "execution_count": 9
        }
      ]
    },
    {
      "cell_type": "markdown",
      "metadata": {
        "id": "IakKaoooxoWS"
      },
      "source": [
        "#Latihan 1\n",
        "\n",
        "buatlah function pythagoras dengan input argumennya panjang tinggi dan alas segitiga untuk menghasilkan output nilai panjang sisi miring"
      ]
    },
    {
      "cell_type": "code",
      "metadata": {
        "colab": {
          "base_uri": "https://localhost:8080/"
        },
        "id": "o95GAP7Jxpr5",
        "outputId": "eed2e0f1-3ddd-46f2-8b9b-a5e20737bc7d"
      },
      "source": [
        "def sisi_miring(alas, panjang):    \n",
        "  x=math.sqrt(alas**2+panjang**2)             \n",
        "  return x                \n",
        "\n",
        "sisi_miring(3, 4)         "
      ],
      "execution_count": 47,
      "outputs": [
        {
          "output_type": "execute_result",
          "data": {
            "text/plain": [
              "5.0"
            ]
          },
          "metadata": {},
          "execution_count": 47
        }
      ]
    },
    {
      "cell_type": "markdown",
      "metadata": {
        "id": "FD4rOhJD6Evp"
      },
      "source": [
        "#Latihan2\n",
        "\n",
        "Buatlah Function luas permukaan balok dnegan input argumennya panjang, lebar, dan tinggi dari balok untuk menghasilkan output nilai luas permukaan balok tersebut."
      ]
    },
    {
      "cell_type": "code",
      "metadata": {
        "id": "AaSwS3MB6VpY",
        "outputId": "7865fb56-0014-40f5-a64d-bd212909a3d0",
        "colab": {
          "base_uri": "https://localhost:8080/"
        }
      },
      "source": [
        "def luas_balok(panjang, lebar, tinggi):\n",
        "  x=2*(panjang*lebar)+2*(panjang*tinggi)+2*(lebar*tinggi)\n",
        "  return x\n",
        "\n",
        "luas_balok(3, 4, 5)"
      ],
      "execution_count": 49,
      "outputs": [
        {
          "output_type": "execute_result",
          "data": {
            "text/plain": [
              "94"
            ]
          },
          "metadata": {},
          "execution_count": 49
        }
      ]
    }
  ]
}