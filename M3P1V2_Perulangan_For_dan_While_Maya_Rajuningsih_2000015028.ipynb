{
  "nbformat": 4,
  "nbformat_minor": 0,
  "metadata": {
    "colab": {
      "name": "M3P1V2 Perulangan For dan While Maya Rajuningsih 2000015028",
      "provenance": []
    },
    "kernelspec": {
      "name": "python3",
      "display_name": "Python 3"
    },
    "language_info": {
      "name": "python"
    }
  },
  "cells": [
    {
      "cell_type": "markdown",
      "metadata": {
        "id": "A9-TlUJeQ-Ke"
      },
      "source": [
        "#Looping/Perulangan"
      ]
    },
    {
      "cell_type": "markdown",
      "metadata": {
        "id": "KQyXc57eREVm"
      },
      "source": [
        "python menyediakan dua statement untuk melakukan proses perulangan yaitu for dan while. diminta. siantara kedua statement ini, secara umum for lebih banyak digunakan daripada while."
      ]
    },
    {
      "cell_type": "markdown",
      "metadata": {
        "id": "xazuFduCRTlf"
      },
      "source": [
        "#For Loop"
      ]
    },
    {
      "cell_type": "markdown",
      "metadata": {
        "id": "vo_jWP2kRWMc"
      },
      "source": [
        "perulangan `for` digunakan untuk melkaukan literasi didalam `sequence` seperti `list`, `tuple`, `string`, dan `array` atau objek yang dapat diliterasi lainnya.\n",
        "\n",
        "**For Loop Syntax**"
      ]
    },
    {
      "cell_type": "code",
      "metadata": {
        "id": "IOmVMLiUQ7oQ"
      },
      "source": [
        "for val in sequence:\n",
        "  loop body"
      ],
      "execution_count": null,
      "outputs": []
    },
    {
      "cell_type": "markdown",
      "metadata": {
        "id": "RftnQJwbR2Hu"
      },
      "source": [
        "for Loop flowchart"
      ]
    },
    {
      "cell_type": "markdown",
      "metadata": {
        "id": "euWHE9dCR4ei"
      },
      "source": [
        "![r-for-loop.jpg](data:image/jpeg;base64,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)"
      ]
    },
    {
      "cell_type": "markdown",
      "metadata": {
        "id": "4sv9JmqISRea"
      },
      "source": [
        "example : python for loop"
      ]
    },
    {
      "cell_type": "code",
      "metadata": {
        "colab": {
          "base_uri": "https://localhost:8080/"
        },
        "id": "5zTZ16YNSUGU",
        "outputId": "35b02dce-fe11-4e87-b38d-ff372565f6a6"
      },
      "source": [
        "#program untuk menghitung jumlah semua angka dalam sebuah list\n",
        "L1=[2, 4, 5, 7, 9]\n",
        "jumlah=0\n",
        "\n",
        "#iterasi di dalam list\n",
        "for i in L1:\n",
        "  jumlah=jumlah + i\n",
        "\n",
        "print(jumlah)"
      ],
      "execution_count": null,
      "outputs": [
        {
          "output_type": "stream",
          "name": "stdout",
          "text": [
            "27\n"
          ]
        }
      ]
    },
    {
      "cell_type": "markdown",
      "metadata": {
        "id": "MpwWUmqeSqjR"
      },
      "source": [
        "#The range() Function"
      ]
    },
    {
      "cell_type": "code",
      "metadata": {
        "colab": {
          "base_uri": "https://localhost:8080/"
        },
        "id": "cT58oN59St0K",
        "outputId": "8a6cffe2-2863-4d93-ef88-b9970b287066"
      },
      "source": [
        "#program untuk melkaukan iterasi di dalam list melalui indeks\n",
        "minuman=[\"teh\",\"boba\",\"kopi\", \"susu\"]\n",
        "p = len(minuman)\n",
        "\n",
        "#iterasi di dalam list melalui indeks\n",
        "for i in range(p):\n",
        "  print(minuman[i])"
      ],
      "execution_count": null,
      "outputs": [
        {
          "output_type": "stream",
          "name": "stdout",
          "text": [
            "teh\n",
            "boba\n",
            "kopi\n",
            "susu\n"
          ]
        }
      ]
    },
    {
      "cell_type": "markdown",
      "metadata": {
        "id": "Wf6-xkqUTGQ5"
      },
      "source": [
        "#for loop with else"
      ]
    },
    {
      "cell_type": "code",
      "metadata": {
        "colab": {
          "base_uri": "https://localhost:8080/"
        },
        "id": "s2IABthsTJkg",
        "outputId": "ebd08b8f-3b4e-4b34-80b3-fd06e16a2a0d"
      },
      "source": [
        "#contoh for loop menggunakan else\n",
        "for i in range(p):\n",
        "  print(minuman[i])\n",
        "else:\n",
        "  print(\"elemen sudah habis\")"
      ],
      "execution_count": null,
      "outputs": [
        {
          "output_type": "stream",
          "name": "stdout",
          "text": [
            "teh\n",
            "boba\n",
            "kopi\n",
            "susu\n",
            "elemen sudah habis\n"
          ]
        }
      ]
    },
    {
      "cell_type": "markdown",
      "metadata": {
        "id": "ngCRE1HYTb2V"
      },
      "source": [
        "#Latihan 1"
      ]
    },
    {
      "cell_type": "markdown",
      "metadata": {
        "id": "S7GHEzVxTdp-"
      },
      "source": [
        "diberikan `list_tagihan`, kamu diminta untuk menghitung jumlah seluruh tagihan. gunakan looping `for` untuk menyelesaikan tugas ini!\n",
        "\n",
        "simpan hasilnya pada varibael `total_tagihan`!"
      ]
    },
    {
      "cell_type": "code",
      "metadata": {
        "colab": {
          "base_uri": "https://localhost:8080/"
        },
        "id": "_nbqsanETt4l",
        "outputId": "cd83ff9a-b2ea-436e-ead8-d5abdf8c49cc"
      },
      "source": [
        "list_tagihan = [50000, 75000, -150000, 125000, 300000, -50000, 200000]\n",
        "\n",
        "#tuliskan code \n",
        "\n",
        "total_tagihan= 0\n",
        "for i in list_tagihan:\n",
        "  total_tagihan=total_tagihan + i\n",
        "\n",
        "print(total_tagihan)"
      ],
      "execution_count": null,
      "outputs": [
        {
          "output_type": "stream",
          "name": "stdout",
          "text": [
            "550000\n"
          ]
        }
      ]
    },
    {
      "cell_type": "markdown",
      "metadata": {
        "id": "wDSdix_yUXdG"
      },
      "source": [
        "#While Loop "
      ]
    },
    {
      "cell_type": "markdown",
      "metadata": {
        "id": "V7hrhnwgUaxa"
      },
      "source": [
        "while loop pada python digunakan untuk melkaukan iterasi pada blok kode selama nilai dari `test expression` adalah `true`. \n",
        "\n",
        "**Syntax of while in python**"
      ]
    },
    {
      "cell_type": "code",
      "metadata": {
        "id": "DlpQ8jzEUuLV"
      },
      "source": [
        "while test_expression:\n",
        "  body of while"
      ],
      "execution_count": null,
      "outputs": []
    },
    {
      "cell_type": "markdown",
      "metadata": {
        "id": "jqiCOpNiUzgz"
      },
      "source": [
        "while loop flowchart"
      ]
    },
    {
      "cell_type": "markdown",
      "metadata": {
        "id": "t9RqsmFnU1mU"
      },
      "source": [
        "![image.png](data:image/png;base64,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)"
      ]
    },
    {
      "cell_type": "markdown",
      "metadata": {
        "id": "_8UVp4JPVJ_c"
      },
      "source": [
        "Example : python while loop"
      ]
    },
    {
      "cell_type": "code",
      "metadata": {
        "colab": {
          "base_uri": "https://localhost:8080/"
        },
        "id": "aIszwjHOUy-F",
        "outputId": "c5d6fe3b-4410-4f6b-d9b1-4b3e27421e9e"
      },
      "source": [
        "#program untuk menjumlahkan semua bilangan asli\n",
        "#hingga suku ke-n\n",
        "#jum = 1+2+3+...+n\n",
        "\n",
        "n=10\n",
        "jumlah=0\n",
        "i=1\n",
        "\n",
        "while i<= n:\n",
        "  jumlah = jumlah + i\n",
        "  i= i + 1\n",
        "\n",
        "print(jumlah)"
      ],
      "execution_count": null,
      "outputs": [
        {
          "output_type": "stream",
          "name": "stdout",
          "text": [
            "55\n"
          ]
        }
      ]
    },
    {
      "cell_type": "markdown",
      "metadata": {
        "id": "6xp2nl6FVoI9"
      },
      "source": [
        "#while loop with else"
      ]
    },
    {
      "cell_type": "markdown",
      "metadata": {
        "id": "yO8X0GZ9Vqi_"
      },
      "source": [
        "sama dengan `for` loop kita juga dapat emngkombinasi `while` loop dengan blok `else`. bagian `else` akan dieksekusi jika nilai pada `test expression` pada `while loop` berniali `false`. perhatikan contoh berikut."
      ]
    },
    {
      "cell_type": "code",
      "metadata": {
        "colab": {
          "base_uri": "https://localhost:8080/"
        },
        "id": "t5BfiZZpV_X0",
        "outputId": "06fc4cfd-b65c-4509-95c5-ad6689669410"
      },
      "source": [
        "jum=0\n",
        "i=1\n",
        "while i<=n:\n",
        "  jum=jum+i\n",
        "  i=i+1\n",
        "else:\n",
        "  print(jum)  #dieksekusi diluar looping"
      ],
      "execution_count": null,
      "outputs": [
        {
          "output_type": "stream",
          "name": "stdout",
          "text": [
            "55\n"
          ]
        }
      ]
    },
    {
      "cell_type": "markdown",
      "metadata": {
        "id": "seBST-uIWNx7"
      },
      "source": [
        "#Latihan 2"
      ]
    },
    {
      "cell_type": "markdown",
      "metadata": {
        "id": "t7luFEdZWdST"
      },
      "source": [
        "dibeirikan list `tagihan` hitunglah `total_tagihan` menggunakan `while loop`.\n"
      ]
    },
    {
      "cell_type": "code",
      "metadata": {
        "id": "uI4dRrVnXxoS"
      },
      "source": [
        ""
      ],
      "execution_count": null,
      "outputs": []
    },
    {
      "cell_type": "code",
      "metadata": {
        "colab": {
          "base_uri": "https://localhost:8080/"
        },
        "id": "fmr721THWqHr",
        "outputId": "93fbd57c-155c-4a96-d195-130055932c38"
      },
      "source": [
        "tagihan=[50000, 75000, 125000, 300000, 200000]\n",
        "\n",
        "#tuliskan kodemu\n",
        "i=0\n",
        "jumlah_tagihan=len(tagihan)\n",
        "total_tagihan=0\n",
        "\n",
        "while i<jumlah_tagihan:\n",
        "  total_tagihan += tagihan[i]\n",
        "  i += 1\n",
        "\n",
        "print(total_tagihan)"
      ],
      "execution_count": 1,
      "outputs": [
        {
          "output_type": "stream",
          "name": "stdout",
          "text": [
            "750000\n"
          ]
        }
      ]
    }
  ]
}